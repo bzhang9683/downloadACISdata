{
 "cells": [
  {
   "cell_type": "code",
   "execution_count": 6,
   "metadata": {},
   "outputs": [
    {
     "output_type": "error",
     "ename": "ImportError",
     "evalue": "cannot import name 'ACISdownloader' from 'ACISdownloader' (c:\\Users\\Beichen\\Desktop\\NRESpy\\ACISdownloader.py)",
     "traceback": [
      "\u001b[1;31m---------------------------------------------------------------------------\u001b[0m",
      "\u001b[1;31mImportError\u001b[0m                               Traceback (most recent call last)",
      "\u001b[1;32m<ipython-input-6-e328d9185489>\u001b[0m in \u001b[0;36m<module>\u001b[1;34m\u001b[0m\n\u001b[1;32m----> 1\u001b[1;33m \u001b[1;32mfrom\u001b[0m \u001b[0mACISdownloader\u001b[0m \u001b[1;32mimport\u001b[0m \u001b[0mACISdownloader\u001b[0m\u001b[1;33m\u001b[0m\u001b[1;33m\u001b[0m\u001b[0m\n\u001b[0m\u001b[0;32m      2\u001b[0m \u001b[1;32mimport\u001b[0m \u001b[0mpandas\u001b[0m \u001b[1;32mas\u001b[0m \u001b[0mpd\u001b[0m\u001b[1;33m\u001b[0m\u001b[1;33m\u001b[0m\u001b[0m\n",
      "\u001b[1;31mImportError\u001b[0m: cannot import name 'ACISdownloader' from 'ACISdownloader' (c:\\Users\\Beichen\\Desktop\\NRESpy\\ACISdownloader.py)"
     ]
    }
   ],
   "source": [
    "from ACISdownloader import downloader\n",
    "import pandas as pd"
   ]
  },
  {
   "cell_type": "code",
   "execution_count": 5,
   "metadata": {},
   "outputs": [
    {
     "output_type": "error",
     "ename": "TypeError",
     "evalue": "'module' object is not callable",
     "traceback": [
      "\u001b[1;31m---------------------------------------------------------------------------\u001b[0m",
      "\u001b[1;31mTypeError\u001b[0m                                 Traceback (most recent call last)",
      "\u001b[1;32m<ipython-input-5-3d49ca487f5f>\u001b[0m in \u001b[0;36m<module>\u001b[1;34m\u001b[0m\n\u001b[0;32m      1\u001b[0m \u001b[0msid\u001b[0m\u001b[1;33m=\u001b[0m\u001b[1;33m[\u001b[0m\u001b[1;34m'304174'\u001b[0m\u001b[1;33m,\u001b[0m\u001b[1;34m'304175'\u001b[0m\u001b[1;33m,\u001b[0m\u001b[1;34m'304176'\u001b[0m\u001b[1;33m]\u001b[0m\u001b[1;33m\u001b[0m\u001b[1;33m\u001b[0m\u001b[0m\n\u001b[1;32m----> 2\u001b[1;33m \u001b[0mp\u001b[0m \u001b[1;33m=\u001b[0m \u001b[0mACISdownloader\u001b[0m\u001b[1;33m(\u001b[0m\u001b[0msid\u001b[0m\u001b[1;33m=\u001b[0m\u001b[0msid\u001b[0m\u001b[1;33m,\u001b[0m\u001b[0msdate\u001b[0m\u001b[1;33m=\u001b[0m\u001b[1;34m'2012-01-01'\u001b[0m\u001b[1;33m,\u001b[0m\u001b[0medate\u001b[0m\u001b[1;33m=\u001b[0m\u001b[1;34m'por'\u001b[0m\u001b[1;33m,\u001b[0m\u001b[0melems\u001b[0m\u001b[1;33m=\u001b[0m\u001b[1;34m'mint,maxt,pcpn'\u001b[0m\u001b[1;33m)\u001b[0m\u001b[1;33m\u001b[0m\u001b[1;33m\u001b[0m\u001b[0m\n\u001b[0m\u001b[0;32m      3\u001b[0m \u001b[0mp\u001b[0m\u001b[1;33m\u001b[0m\u001b[1;33m\u001b[0m\u001b[0m\n",
      "\u001b[1;31mTypeError\u001b[0m: 'module' object is not callable"
     ]
    }
   ],
   "source": [
    "sid=['304174','304175','304176']\n",
    "p = ACISdownloader(sid=sid,sdate='2012-01-01',edate='por',elems='mint,maxt,pcpn')\n",
    "p"
   ]
  },
  {
   "cell_type": "code",
   "execution_count": null,
   "metadata": {},
   "outputs": [],
   "source": []
  }
 ],
 "metadata": {
  "language_info": {
   "codemirror_mode": {
    "name": "ipython",
    "version": 3
   },
   "file_extension": ".py",
   "mimetype": "text/x-python",
   "name": "python",
   "nbconvert_exporter": "python",
   "pygments_lexer": "ipython3",
   "version": "3.7.7-final"
  },
  "orig_nbformat": 2,
  "kernelspec": {
   "name": "python37764bitmyworkconda01cb8b6393ae4e1da59b8c3bc358cd42",
   "display_name": "Python 3.7.7 64-bit ('mywork': conda)"
  }
 },
 "nbformat": 4,
 "nbformat_minor": 2
}