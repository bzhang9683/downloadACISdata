{
 "cells": [
  {
   "cell_type": "markdown",
   "metadata": {},
   "source": [
    "# PythonNRES 7.3 "
   ]
  },
  {
   "cell_type": "markdown",
   "metadata": {},
   "source": [
    "## 3. Based on the information at http://www.rcc-acis.org/docs_webservices.html, write Python functions that\n",
    "1. return a dataframe that includes the daily climate data for a list of stations between a given period\n",
    "2. return a dataframe that includes the pentad mean climate data for a list of stations between a given period\n",
    "3. return a dataframe that includes the monthly mean climate data for a given county and a given period"
   ]
  },
  {
   "cell_type": "code",
   "execution_count": 18,
   "metadata": {},
   "outputs": [
    {
     "ename": "AttributeError",
     "evalue": "module 'urllib' has no attribute 'urlencode'",
     "output_type": "error",
     "traceback": [
      "\u001b[1;31m---------------------------------------------------------------------------\u001b[0m",
      "\u001b[1;31mAttributeError\u001b[0m                            Traceback (most recent call last)",
      "\u001b[1;32m<ipython-input-18-58f05e64dad3>\u001b[0m in \u001b[0;36m<module>\u001b[1;34m\u001b[0m\n\u001b[0;32m      4\u001b[0m \u001b[1;31m# call data using web servies\u001b[0m\u001b[1;33m\u001b[0m\u001b[1;33m\u001b[0m\u001b[1;33m\u001b[0m\u001b[0m\n\u001b[0;32m      5\u001b[0m \u001b[0minput_dict\u001b[0m \u001b[1;33m=\u001b[0m \u001b[1;33m{\u001b[0m\u001b[1;34m\"county\"\u001b[0m\u001b[1;33m:\u001b[0m\u001b[1;34m\"22033\"\u001b[0m\u001b[1;33m,\u001b[0m\u001b[1;34m\"sdate\"\u001b[0m\u001b[1;33m:\u001b[0m\u001b[1;34m\"2014-06-01\"\u001b[0m\u001b[1;33m,\u001b[0m\u001b[1;34m\"edate\"\u001b[0m\u001b[1;33m:\u001b[0m\u001b[1;34m\"2014-06-30\"\u001b[0m\u001b[1;33m,\u001b[0m\u001b[1;34m\"meta\"\u001b[0m\u001b[1;33m:\u001b[0m\u001b[1;34m\"name,sids\"\u001b[0m\u001b[1;33m,\u001b[0m\u001b[1;34m\"elems\"\u001b[0m\u001b[1;33m:\u001b[0m\u001b[1;33m[\u001b[0m\u001b[1;33m{\u001b[0m\u001b[1;34m\"name\"\u001b[0m\u001b[1;33m:\u001b[0m\u001b[1;34m\"pcpn\"\u001b[0m\u001b[1;33m,\u001b[0m\u001b[1;34m\"interval\"\u001b[0m\u001b[1;33m:\u001b[0m\u001b[1;34m\"mly\"\u001b[0m\u001b[1;33m,\u001b[0m\u001b[1;34m\"duration\"\u001b[0m\u001b[1;33m:\u001b[0m\u001b[1;34m\"mly\"\u001b[0m\u001b[1;33m,\u001b[0m\u001b[1;34m\"reduce\"\u001b[0m\u001b[1;33m:\u001b[0m\u001b[1;33m{\u001b[0m\u001b[1;34m\"reduce\"\u001b[0m\u001b[1;33m:\u001b[0m\u001b[1;34m\"sum\"\u001b[0m\u001b[1;33m,\u001b[0m\u001b[1;34m\"add\"\u001b[0m\u001b[1;33m:\u001b[0m\u001b[1;34m\"mcnt\"\u001b[0m\u001b[1;33m}\u001b[0m\u001b[1;33m,\u001b[0m\u001b[1;34m\"maxmissing\"\u001b[0m\u001b[1;33m:\u001b[0m\u001b[1;36m3\u001b[0m\u001b[1;33m,\u001b[0m\u001b[1;34m\"smry\"\u001b[0m\u001b[1;33m:\u001b[0m\u001b[1;33m{\u001b[0m\u001b[1;34m\"reduce\"\u001b[0m\u001b[1;33m:\u001b[0m\u001b[1;34m\"sum\"\u001b[0m\u001b[1;33m,\u001b[0m\u001b[1;34m\"add\"\u001b[0m\u001b[1;33m:\u001b[0m\u001b[1;34m\"mcnt\"\u001b[0m\u001b[1;33m}\u001b[0m\u001b[1;33m}\u001b[0m\u001b[1;33m,\u001b[0m\u001b[1;33m{\u001b[0m\u001b[1;34m\"name\"\u001b[0m\u001b[1;33m:\u001b[0m\u001b[1;34m\"pcpn\"\u001b[0m\u001b[1;33m,\u001b[0m\u001b[1;34m\"interval\"\u001b[0m\u001b[1;33m:\u001b[0m\u001b[1;34m\"mly\"\u001b[0m\u001b[1;33m,\u001b[0m\u001b[1;34m\"duration\"\u001b[0m\u001b[1;33m:\u001b[0m\u001b[1;34m\"mly\"\u001b[0m\u001b[1;33m,\u001b[0m\u001b[1;34m\"reduce\"\u001b[0m\u001b[1;33m:\u001b[0m\u001b[1;33m{\u001b[0m\u001b[1;34m\"reduce\"\u001b[0m\u001b[1;33m:\u001b[0m\u001b[1;34m\"sum\"\u001b[0m\u001b[1;33m,\u001b[0m\u001b[1;34m\"add\"\u001b[0m\u001b[1;33m:\u001b[0m\u001b[1;34m\"mcnt\"\u001b[0m\u001b[1;33m}\u001b[0m\u001b[1;33m,\u001b[0m\u001b[1;34m\"maxmissing\"\u001b[0m\u001b[1;33m:\u001b[0m\u001b[1;36m3\u001b[0m\u001b[1;33m,\u001b[0m\u001b[1;34m\"smry\"\u001b[0m\u001b[1;33m:\u001b[0m\u001b[1;33m{\u001b[0m\u001b[1;34m\"reduce\"\u001b[0m\u001b[1;33m:\u001b[0m\u001b[1;34m\"sum\"\u001b[0m\u001b[1;33m,\u001b[0m\u001b[1;34m\"add\"\u001b[0m\u001b[1;33m:\u001b[0m\u001b[1;34m\"mcnt\"\u001b[0m\u001b[1;33m}\u001b[0m\u001b[1;33m,\u001b[0m\u001b[1;34m\"normal\"\u001b[0m\u001b[1;33m:\u001b[0m\u001b[1;34m\"departure\"\u001b[0m\u001b[1;33m}\u001b[0m\u001b[1;33m]\u001b[0m\u001b[1;33m}\u001b[0m\u001b[1;33m\u001b[0m\u001b[1;33m\u001b[0m\u001b[0m\n\u001b[1;32m----> 6\u001b[1;33m \u001b[0mparams\u001b[0m \u001b[1;33m=\u001b[0m \u001b[0murllib\u001b[0m\u001b[1;33m.\u001b[0m\u001b[0murlencode\u001b[0m\u001b[1;33m(\u001b[0m\u001b[1;33m{\u001b[0m\u001b[1;34m'params'\u001b[0m\u001b[1;33m:\u001b[0m\u001b[0mjson\u001b[0m\u001b[1;33m.\u001b[0m\u001b[0mdumps\u001b[0m\u001b[1;33m(\u001b[0m\u001b[0minput_dict\u001b[0m\u001b[1;33m)\u001b[0m\u001b[1;33m}\u001b[0m\u001b[1;33m)\u001b[0m\u001b[1;33m\u001b[0m\u001b[1;33m\u001b[0m\u001b[0m\n\u001b[0m\u001b[0;32m      7\u001b[0m \u001b[0mreq\u001b[0m \u001b[1;33m=\u001b[0m \u001b[0murllib3\u001b[0m\u001b[1;33m.\u001b[0m\u001b[0mRequest\u001b[0m\u001b[1;33m(\u001b[0m\u001b[1;34m'http://data.rcc-acis.org/MultiStnData'\u001b[0m\u001b[1;33m,\u001b[0m \u001b[0mparams\u001b[0m\u001b[1;33m,\u001b[0m \u001b[1;33m{\u001b[0m\u001b[1;34m'Accept'\u001b[0m\u001b[1;33m:\u001b[0m\u001b[1;34m'application/json'\u001b[0m\u001b[1;33m}\u001b[0m\u001b[1;33m)\u001b[0m\u001b[1;33m\u001b[0m\u001b[1;33m\u001b[0m\u001b[0m\n\u001b[0;32m      8\u001b[0m \u001b[0mresponse\u001b[0m \u001b[1;33m=\u001b[0m \u001b[0murllib3\u001b[0m\u001b[1;33m.\u001b[0m\u001b[0murlopen\u001b[0m\u001b[1;33m(\u001b[0m\u001b[0mreq\u001b[0m\u001b[1;33m)\u001b[0m\u001b[1;33m\u001b[0m\u001b[1;33m\u001b[0m\u001b[0m\n",
      "\u001b[1;31mAttributeError\u001b[0m: module 'urllib' has no attribute 'urlencode'"
     ]
    }
   ],
   "source": [
    "import urllib, urllib3\n",
    "import requests\n",
    "import json\n",
    "# call data using web servies\n",
    "input_dict = {\"county\":\"22033\",\"sdate\":\"2014-06-01\",\"edate\":\"2014-06-30\",\"meta\":\"name,sids\",\"elems\":[{\"name\":\"pcpn\",\"interval\":\"mly\",\"duration\":\"mly\",\"reduce\":{\"reduce\":\"sum\",\"add\":\"mcnt\"},\"maxmissing\":3,\"smry\":{\"reduce\":\"sum\",\"add\":\"mcnt\"}},{\"name\":\"pcpn\",\"interval\":\"mly\",\"duration\":\"mly\",\"reduce\":{\"reduce\":\"sum\",\"add\":\"mcnt\"},\"maxmissing\":3,\"smry\":{\"reduce\":\"sum\",\"add\":\"mcnt\"},\"normal\":\"departure\"}]}\n",
    "params = urllib.urlencode({'params':json.dumps(input_dict)})\n",
    "req = urllib3.Request('http://data.rcc-acis.org/MultiStnData', params, {'Accept':'application/json'})\n",
    "response = urllib3.urlopen(req)\n",
    "a = response.read()\n",
    "z= json.loads(a)\n",
    "b=z['data']\n",
    "x=0\n",
    "w=0\n",
    "# extract just the GHCN Station IDs\n",
    "stnid=[]\n",
    "for x in range (0,len(b)):\n",
    "\tfor w in range (0,len(b[x]['meta']['sids'])):\n",
    "\t\tid,stntype =  b[x]['meta']['sids'][w].split(' ')\n",
    "\t\tif stntype == '6':\n",
    "\t\t\tstnid.append(b[x]['meta']['sids'][w])\n",
    "\tw=0\n",
    "stnname=[]  # create empty list to hold the station names\n",
    "mpcpn=[]    # create empty list to hold the precip data\n",
    "depart=[]   # create empty list to hold the precip dfn data\n",
    "v=0\n",
    "for v in range (0,len(b)):\n",
    "         stnname.append((b[v]['meta']['name']))   # populate the three lists\n",
    "         mpcpn.append(b[v]['smry'][0][0])\n",
    "         depart.append(b[v]['smry'][1][0])\n",
    "         if depart[v]=='M':     # check to see if there is a normals value for the stn\n",
    "                depart[v]='N/A' # if not, assign the value as 'not available'\n"
   ]
  },
  {
   "cell_type": "code",
   "execution_count": null,
   "metadata": {},
   "outputs": [],
   "source": []
  }
 ],
 "metadata": {
  "kernelspec": {
   "display_name": "Python 3",
   "language": "python",
   "name": "python3"
  },
  "language_info": {
   "codemirror_mode": {
    "name": "ipython",
    "version": 3
   },
   "file_extension": ".py",
   "mimetype": "text/x-python",
   "name": "python",
   "nbconvert_exporter": "python",
   "pygments_lexer": "ipython3",
   "version": "3.7.4"
  }
 },
 "nbformat": 4,
 "nbformat_minor": 2
}
